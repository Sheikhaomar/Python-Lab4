{
 "cells": [
  {
   "cell_type": "code",
   "execution_count": 17,
   "id": "8c996e77",
   "metadata": {},
   "outputs": [
    {
     "name": "stdout",
     "output_type": "stream",
     "text": [
      "54321\n",
      "4321\n",
      "321\n",
      "21\n",
      "1\n"
     ]
    }
   ],
   "source": [
    "def numbers (num1):\n",
    "    while (num1>=1):\n",
    "        num2=num1\n",
    "        for j in range (num2,0,-1):\n",
    "            print(num2,end=\"\")\n",
    "            num2-=1\n",
    "        \n",
    "        num1-=1   \n",
    "        print (\"\")\n",
    "    \n",
    "numbers (5)  "
   ]
  },
  {
   "cell_type": "code",
   "execution_count": 15,
   "id": "c5b58019",
   "metadata": {},
   "outputs": [
    {
     "name": "stdout",
     "output_type": "stream",
     "text": [
      "54321\n",
      "4321\n",
      "321\n",
      "21\n",
      "1\n"
     ]
    }
   ],
   "source": [
    "while (num1>=1):\n",
    "    num2=num1\n",
    "    for j in range (num2,0,-1):\n",
    "        print(num2,end=\"\")\n",
    "        num2-=1\n",
    "        \n",
    "    num1-=1   \n",
    "    print (\"\")"
   ]
  },
  {
   "cell_type": "code",
   "execution_count": null,
   "id": "d8cc3ea7",
   "metadata": {},
   "outputs": [],
   "source": []
  }
 ],
 "metadata": {
  "kernelspec": {
   "display_name": "Python 3 (ipykernel)",
   "language": "python",
   "name": "python3"
  },
  "language_info": {
   "codemirror_mode": {
    "name": "ipython",
    "version": 3
   },
   "file_extension": ".py",
   "mimetype": "text/x-python",
   "name": "python",
   "nbconvert_exporter": "python",
   "pygments_lexer": "ipython3",
   "version": "3.10.9"
  }
 },
 "nbformat": 4,
 "nbformat_minor": 5
}
